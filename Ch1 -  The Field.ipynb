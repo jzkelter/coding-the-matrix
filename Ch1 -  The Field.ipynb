{
 "cells": [
  {
   "cell_type": "markdown",
   "metadata": {},
   "source": [
    "# Chapter 1: The Field"
   ]
  },
  {
   "cell_type": "code",
   "execution_count": 6,
   "metadata": {},
   "outputs": [
    {
     "data": {
      "text/plain": [
       "(-8+6j)"
      ]
     },
     "execution_count": 6,
     "metadata": {},
     "output_type": "execute_result"
    }
   ],
   "source": [
    "## Complex Numbers:\n",
    "# (1+3j)**2\n",
    "# (1+3j).real\n",
    "# (1+3j).imag"
   ]
  },
  {
   "cell_type": "markdown",
   "metadata": {
    "heading_collapsed": true
   },
   "source": [
    "## 1.3 Abstracting Over Fields\n"
   ]
  },
  {
   "cell_type": "markdown",
   "metadata": {
    "hidden": true
   },
   "source": [
    "The solve1 procedure below works on real numbers and complex numbers, even though it doesn't specify what the minus and divide operators should work on. Using the same name (in this case - and /) for different procedures operating on values of different types is called \"overloading\" and it is very useful for things like this. Because the +, -, * and / are defined in analagous ways for real and complex numbers (i.e. that + and - are inverses and likewise * and / are inverses), the same procedures work for both. This allows us to write procedures like solve1 without specifying if it is for real or complex numbers but it works for both. \n",
    "\n",
    "Any set of numbers that has addition, subtraction, multipilication and division defined in a way that corresponds to the real numbers is called a field. We can then write procedures like solve1 (as well as write concepts and theorems)that abstracts over fields by only being writeen in terms of these basic opperators"
   ]
  },
  {
   "cell_type": "code",
   "execution_count": 19,
   "metadata": {
    "hidden": true
   },
   "outputs": [
    {
     "data": {
      "text/plain": [
       "(1.2-0.6j)"
      ]
     },
     "execution_count": 19,
     "metadata": {},
     "output_type": "execute_result"
    }
   ],
   "source": [
    "def solve1(a, b, c): return (c - b) / a # solves ax + b = c"
   ]
  },
  {
   "cell_type": "markdown",
   "metadata": {},
   "source": [
    "## 1.4 Playing with C"
   ]
  },
  {
   "cell_type": "code",
   "execution_count": null,
   "metadata": {},
   "outputs": [],
   "source": [
    "from resources.ch1.plotting import plot\n",
    "from math import pi, e\n",
    "tau = 2 * pi"
   ]
  },
  {
   "cell_type": "code",
   "execution_count": 23,
   "metadata": {},
   "outputs": [],
   "source": [
    "\n",
    "# Task 1.4.1\n",
    "S = [2 + 2j, 3 + 2j, 1.75 + 1j, 2 + 1j, 2.25 + 1j, 2.5 + 1j, 2.75 + 1j, 3 + 1j, 3.25 + 1j]\n",
    "\n",
    "plot(S , 4)"
   ]
  },
  {
   "cell_type": "code",
   "execution_count": 35,
   "metadata": {},
   "outputs": [],
   "source": [
    "# Task 1.4.3\n",
    "S = [2 + 2j, 3 + 2j, 1.75 + 1j, 2 + 1j, 2.25 + 1j, 2.5 + 1j, 2.75 + 1j, 3 + 1j, 3.25 + 1j]\n",
    "\n",
    "def f(z): return 1 + 2j + z  # translation\n",
    "S1 = S + [f(s) for s in S]  # plot the original points and the translated points\n",
    "\n",
    "plot(S1 , 4)"
   ]
  },
  {
   "cell_type": "code",
   "execution_count": 41,
   "metadata": {},
   "outputs": [],
   "source": [
    "# Task 1.4.7\n",
    "S = [2 + 2j, 3 + 2j, 1.75 + 1j, 2 + 1j, 2.25 + 1j, 2.5 + 1j, 2.75 + 1j, 3 + 1j, 3.25 + 1j]\n",
    "\n",
    "def g(z): return 2 * z  # translation\n",
    "def g1(z): return (1/2) * z  # translation\n",
    "S1 = S + [g(s) for s in S]  # plot the original points and the translated points\n",
    "S2 = S1 + [g1(s) for s in S]  # plot the original points and the translated points\n",
    "\n",
    "plot(S2 , 8)"
   ]
  },
  {
   "cell_type": "code",
   "execution_count": 43,
   "metadata": {},
   "outputs": [],
   "source": [
    "# Task 1.4.7\n",
    "S = [2 + 2j, 3 + 2j, 1.75 + 1j, 2 + 1j, 2.25 + 1j, 2.5 + 1j, 2.75 + 1j, 3 + 1j, 3.25 + 1j]\n",
    "\n",
    "def g(z): return -2 * z  # translation\n",
    "S1 = S + [g(s) for s in S]  # plot the original points and the translated points\n",
    "\n",
    "plot(S1 , 8)"
   ]
  },
  {
   "cell_type": "code",
   "execution_count": 73,
   "metadata": {},
   "outputs": [],
   "source": [
    "# Task 1.4.8 - scale by 1/2 and rotate 90 degrees\n",
    "S = [2 + 2j, 3 + 2j, 1.75 + 1j, 2 + 1j, 2.25 + 1j, 2.5 + 1j, 2.75 + 1j, 3 + 1j, 3.25 + 1j]\n",
    "\n",
    "def g(z): return (1/2 * 1j) * z  # translation\n",
    "S1 = S + [g(s) for s in S]  # plot the original points and the translated points\n",
    "\n",
    "plot(S1 , 8)"
   ]
  },
  {
   "cell_type": "code",
   "execution_count": 74,
   "metadata": {},
   "outputs": [],
   "source": [
    "# Task 1.4.9 - scale by 1/2 and rotate 90 degrees and shifted down by one unit and and to the right two units\n",
    "S = [2 + 2j, 3 + 2j, 1.75 + 1j, 2 + 1j, 2.25 + 1j, 2.5 + 1j, 2.75 + 1j, 3 + 1j, 3.25 + 1j]\n",
    "\n",
    "def g(z): return (1/2 * 1j) * z + (2 - 1j)  # translation\n",
    "S1 = S + [g(s) for s in S]  # plot the original points and the translated points\n",
    "\n",
    "plot(S1 , 8)"
   ]
  },
  {
   "cell_type": "code",
   "execution_count": 125,
   "metadata": {},
   "outputs": [],
   "source": [
    "# Task 1.4.10 - \n",
    "from resources.ch1.image import file2image\n",
    "\n",
    "image = file2image(\"resources/ch1/img01.png\")\n",
    "\n",
    "pts = [(x + y*1j)  for y in range(len(image)) for x in range(len(image[0])) if image[y][x][0] < 120]\n",
    "plot(pts, 200)\n"
   ]
  },
  {
   "cell_type": "code",
   "execution_count": 129,
   "metadata": {
    "scrolled": false
   },
   "outputs": [],
   "source": [
    "# Task 1.4.11 - \n",
    "S = [2 + 2j, 3 + 2j, 1.75 + 1j, 2 + 1j, 2.25 + 1j, 2.5 + 1j, 2.75 + 1j, 3 + 1j, 3.25 + 1j]\n",
    "\n",
    "def f(z): return z - sum(S) / len(S)  # translation\n",
    "S1 = S + [f(s) for s in S]  # plot the original points and the translated points\n",
    "\n",
    "plot(S1 , 8)"
   ]
  },
  {
   "cell_type": "code",
   "execution_count": 170,
   "metadata": {},
   "outputs": [],
   "source": [
    "# Task 1.4.12\n",
    "pts = [((x + y*1j) * -1)  for y in range(len(image)) for x in range(len(image[0])) if image[y][x][0] < 120]\n",
    "\n",
    "center = sum(pts) / len(pts)\n",
    "def f(z): return z - center\n",
    "pts2 = [f(z) for z in pts]\n",
    "plot(pts2, 200)\n",
    "\n"
   ]
  },
  {
   "cell_type": "code",
   "execution_count": 163,
   "metadata": {},
   "outputs": [],
   "source": [
    "# Task 1.4.13\n",
    "pts = [e**((tau * 1j) / n) for n in list(range(1,20))]\n",
    "plot(pts, 2)"
   ]
  },
  {
   "cell_type": "code",
   "execution_count": 160,
   "metadata": {},
   "outputs": [],
   "source": [
    "# Task 1.4.17\n",
    "from math import pi, e\n",
    "tau = pi * 2\n",
    "pts = [e ** (tau * 1j / n) for n in range(1, 20)]\n",
    "plot(pts, 1.5)"
   ]
  },
  {
   "cell_type": "code",
   "execution_count": 165,
   "metadata": {},
   "outputs": [],
   "source": [
    "# Task 1.4.18\n",
    "S = [2 + 2j, 3 + 2j, 1.75 + 1j, 2 + 1j, 2.25 + 1j, 2.5 + 1j, 2.75 + 1j, 3 + 1j, 3.25 + 1j]\n",
    "rotation = (pi / 4) * 1j\n",
    "Sp = [s * e**rotation for s in S]\n",
    "plot(Sp , 4)"
   ]
  },
  {
   "cell_type": "code",
   "execution_count": 168,
   "metadata": {},
   "outputs": [],
   "source": [
    "# Task 1.4.19\n",
    "image = file2image(\"resources/ch1/img01.png\")\n",
    "\n",
    "pts = [(x + y*1j)  for y in range(len(image)) for x in range(len(image[0])) if image[y][x][0] < 120]\n",
    "rotation = (pi / 4) * 1j\n",
    "pts2 = [s * e**rotation for s in pts]\n",
    "\n",
    "plot(pts2, 200)"
   ]
  },
  {
   "cell_type": "code",
   "execution_count": 210,
   "metadata": {},
   "outputs": [],
   "source": [
    "# Task 1.4.20\n",
    "pts = [((x + y*1j) * -1)  for y in range(len(image)) for x in range(len(image[0])) if image[y][x][0] < 120]\n",
    "\n",
    "center_point = sum(pts) / len(pts)\n",
    "def center(z): return z - center_point\n",
    "def rotate(z): return z * e**((pi / 4) * 1j)\n",
    "\n",
    "pts2 = [(1/2) * rotate(center(s)) for s in pts]\n",
    "\n",
    "plot(pts2, 200)\n"
   ]
  },
  {
   "cell_type": "code",
   "execution_count": 213,
   "metadata": {},
   "outputs": [
    {
     "data": {
      "text/plain": [
       "(-27.568542624180687+45.3753661911282j)"
      ]
     },
     "execution_count": 213,
     "metadata": {},
     "output_type": "execute_result"
    }
   ],
   "source": [
    "import functools\n",
    "functools.reduce(lambda x, y: x+y, range(5))\n",
    "def compose2(f1, f2):\n",
    "    return lambda x: f1(f2(x))\n",
    "\n",
    "def compose(*funcs):\n",
    "    return functools.reduce(compose2, funcs, lambda x: x)\n",
    "\n",
    "compose(rotate, center)(pts[0]) / 2"
   ]
  },
  {
   "cell_type": "markdown",
   "metadata": {
    "heading_collapsed": true
   },
   "source": [
    "## 1.5 Playing with GF(2)"
   ]
  },
  {
   "cell_type": "code",
   "execution_count": 215,
   "metadata": {
    "hidden": true
   },
   "outputs": [],
   "source": [
    "from resources.ch1.GF2 import one"
   ]
  },
  {
   "cell_type": "code",
   "execution_count": 222,
   "metadata": {
    "hidden": true
   },
   "outputs": [
    {
     "data": {
      "text/plain": [
       "0"
      ]
     },
     "execution_count": 222,
     "metadata": {},
     "output_type": "execute_result"
    }
   ],
   "source": [
    "one + 1"
   ]
  },
  {
   "cell_type": "code",
   "execution_count": 275,
   "metadata": {
    "hidden": true
   },
   "outputs": [
    {
     "name": "stdout",
     "output_type": "stream",
     "text": [
      "(0, 0, 0, 0, 0) vevlzdlvez \n",
      "(0, 0, 0, 0, 1) None\n",
      "(0, 0, 0, 1, 0) None\n",
      "(0, 0, 0, 1, 1) whwi aiwh z\n",
      "(0, 0, 1, 0, 0) None\n",
      "(0, 0, 1, 0, 1) None\n",
      "(0, 0, 1, 1, 0) None\n",
      "(0, 0, 1, 1, 1) None\n",
      "(0, 1, 0, 0, 0) None\n",
      "(0, 1, 0, 0, 1) None\n",
      "(0, 1, 0, 1, 0) None\n",
      "(0, 1, 0, 1, 1) None\n",
      "(0, 1, 1, 0, 0) zizhvphzivw\n",
      "(0, 1, 1, 0, 1) yjyguogyjux\n",
      "(0, 1, 1, 1, 0) None\n",
      "(0, 1, 1, 1, 1)  l ewme lwv\n",
      "(1, 0, 0, 0, 0) None\n",
      "(1, 0, 0, 0, 1) eve is evil\n",
      "(1, 0, 0, 1, 0) hwhzlrzhwli\n",
      "(1, 0, 0, 1, 1) gxgykqygxkj\n",
      "(1, 0, 1, 0, 0) None\n",
      "(1, 0, 1, 0, 1) None\n",
      "(1, 0, 1, 1, 0) None\n",
      "(1, 0, 1, 1, 1) None\n",
      "(1, 1, 0, 0, 0) None\n",
      "(1, 1, 0, 0, 1) None\n",
      "(1, 1, 0, 1, 0) None\n",
      "(1, 1, 0, 1, 1) None\n",
      "(1, 1, 1, 0, 0) None\n",
      "(1, 1, 1, 0, 1) None\n",
      "(1, 1, 1, 1, 0) None\n",
      "(1, 1, 1, 1, 1) None\n"
     ]
    }
   ],
   "source": [
    "# Problem 1.5.1 \n",
    "cyphertext = ['10101', '00100', '10101', '01011', '11001', '00011', '01011', '10101', '00100', '11001', '11010']\n",
    "\n",
    "symbols = {i: c for i,c  in enumerate('abcdefghijklmnopqrstuvwxyz ')}\n",
    "\n",
    "keys = [(k0, k1, k2, k3, k4) for k0 in [0, 1] \n",
    "                             for k1 in [0, 1]\n",
    "                             for k2 in [0, 1]\n",
    "                             for k3 in [0, 1]\n",
    "                             for k4 in [0, 1]]\n",
    "\n",
    "def get_symbol(bit_list): return symbols.get(int(''.join(map(str, bit_list)), 2))\n",
    "\n",
    "def decrypt(bits, key): return get_symbol([(int(b) + k) % 2 for b,k in zip(bits, key)])\n",
    "\n",
    "def print_word(ch_lst): return None if None in ch_lst else ''.join(ch_lst)\n",
    "for k in keys:\n",
    "    print(k, print_word([decrypt(c, k) for c in cyphertext]))"
   ]
  },
  {
   "cell_type": "markdown",
   "metadata": {},
   "source": [
    "## 1.7 Problems"
   ]
  },
  {
   "cell_type": "code",
   "execution_count": 277,
   "metadata": {},
   "outputs": [
    {
     "data": {
      "text/plain": [
       "[1, 5, 7]"
      ]
     },
     "execution_count": 277,
     "metadata": {},
     "output_type": "execute_result"
    }
   ],
   "source": [
    "\n",
    "# Problem 1.7.1: my filter(L, num) \n",
    "# input: list of numbers and a positive integer. \n",
    "# output: list of numbers not containing a multiple of num. \n",
    "# example: given list = [1,2,4,5,7] and num = 2, return [1,5,7].\n",
    "def my_filter(L, num): return [l for l in L if (l % num) != 0]\n",
    "my_filter([1, 2, 4, 5, 7], 2)\n",
    "    "
   ]
  },
  {
   "cell_type": "code",
   "execution_count": 280,
   "metadata": {},
   "outputs": [
    {
     "data": {
      "text/plain": [
       "[[1], [1, 2], [1, 2, 3, 4]]"
      ]
     },
     "execution_count": 280,
     "metadata": {},
     "output_type": "execute_result"
    }
   ],
   "source": [
    "# Problem 1.7.2: my lists(L) \n",
    "# input: list L of non-negative integers.\n",
    "# output: a list of lists: for every element x in L create a list containing 1, 2,...,x. \n",
    "# example: given [1,2,4] return [[1],[1,2],[1,2,3,4]]. example: given [0] return [[]].\n",
    "def my_lists(L): return [list(range(1, x+1)) for x in L]\n",
    "my_lists([1, 2, 4])"
   ]
  },
  {
   "cell_type": "code",
   "execution_count": 283,
   "metadata": {},
   "outputs": [
    {
     "data": {
      "text/plain": [
       "{0: 'apple', 1: 'banana'}"
      ]
     },
     "execution_count": 283,
     "metadata": {},
     "output_type": "execute_result"
    }
   ],
   "source": [
    "# Problem 1.7.3: my function composition(f,g) \n",
    "# input: two functions f and g, represented as dictionaries, such that g ◦ f exists. \n",
    "# output: dictionary that represents the function g ◦ f. \n",
    "# example: given f = {0:’a’, 1:’b’} and g = {’a’:’apple’, ’b’:’banana’}, return {0:’apple’, 1:’banana’}.\n",
    "def my_function_composition(f, g): return {fk: g[f[fk]] for fk in f.keys()}\n",
    "f = {0:'a', 1:'b'} \n",
    "g = {'a': 'apple', 'b': 'banana'}\n",
    "my_function_composition(f, g)\n"
   ]
  },
  {
   "cell_type": "markdown",
   "metadata": {},
   "source": [
    "### Python Loop problems\n"
   ]
  },
  {
   "cell_type": "code",
   "execution_count": 284,
   "metadata": {},
   "outputs": [
    {
     "data": {
      "text/plain": [
       "True"
      ]
     },
     "execution_count": 284,
     "metadata": {},
     "output_type": "execute_result"
    }
   ],
   "source": [
    "# For procedures in the following five problems, use the following format: \n",
    "# def <ProcedureName>(L): \n",
    "#     current = ... \n",
    "#     for x in L: \n",
    "#         current = ... \n",
    "#     return current\n",
    "\n",
    "# Problem 1.7.4: mySum(L) \n",
    "# Input: list of numbers \n",
    "# Output: sum of numbers in the list\n",
    "def mySum(L):\n",
    "    current = 0\n",
    "    for l in L:\n",
    "        current += l\n",
    "    return current\n",
    "mySum(range(5)) == sum(range(5))\n",
    "    "
   ]
  },
  {
   "cell_type": "code",
   "execution_count": 285,
   "metadata": {},
   "outputs": [
    {
     "data": {
      "text/plain": [
       "6"
      ]
     },
     "execution_count": 285,
     "metadata": {},
     "output_type": "execute_result"
    }
   ],
   "source": [
    "# Problem 1.7.5: myProduct(L)\n",
    "#     input: list of numbers \n",
    "#     output: product of numbers in the list\n",
    "def myProduct(L):\n",
    "    current = 1\n",
    "    for l in L:\n",
    "        current *= l\n",
    "    return current\n",
    "myProduct([1, 2, 3])\n"
   ]
  },
  {
   "cell_type": "code",
   "execution_count": 295,
   "metadata": {},
   "outputs": [],
   "source": [
    "# Problem 1.7.6: myMin(L) \n",
    "# input: list of numbers \n",
    "# output: minimum number in the list\n",
    "\n",
    "def myMin(L):\n",
    "    if L == []:\n",
    "        return None\n",
    "    \n",
    "    current = L[0]\n",
    "    for l in L:\n",
    "        current = l if l < current else current\n",
    "    return current\n",
    "myMin([1, 2, 3, 0])\n",
    "            "
   ]
  },
  {
   "cell_type": "code",
   "execution_count": 290,
   "metadata": {},
   "outputs": [
    {
     "data": {
      "text/plain": [
       "'aJollyTime'"
      ]
     },
     "execution_count": 290,
     "metadata": {},
     "output_type": "execute_result"
    }
   ],
   "source": [
    "# Problem 1.7.7: myConcat(L) \n",
    "# input: list of strings \n",
    "# output: concatenation of all the strings in L\n",
    "def myConcat(L):\n",
    "    current = ''\n",
    "    for el in L:\n",
    "        current += el\n",
    "    return current\n",
    "myConcat(['a', 'Jolly', 'Time'])"
   ]
  },
  {
   "cell_type": "code",
   "execution_count": 292,
   "metadata": {},
   "outputs": [
    {
     "data": {
      "text/plain": [
       "set()"
      ]
     },
     "execution_count": 292,
     "metadata": {},
     "output_type": "execute_result"
    }
   ],
   "source": [
    "# Problem 1.7.8: myUnion(L) \n",
    "# input: list of sets \n",
    "# output: the union of all sets in L.\n",
    "def myUnion(L):\n",
    "    current = set()\n",
    "    for s in L:\n",
    "        current = current | s\n",
    "    return current\n",
    "myUnion([{0, 1}, {2, 3}])"
   ]
  },
  {
   "cell_type": "markdown",
   "metadata": {},
   "source": [
    "Probleem 1.7.9\n",
    "\n",
    "What should be the value of each of the following?\n",
    "\n",
    "1. The sum of number in an empty set. --> 0\n",
    "2. The product of the number in an empty set. --> 1\n",
    "3. The minimum of the numbmers in an empty set. --> None I guess. Seems different than the others.\n",
    "4. The concatenation of an empty list of strings. --> empty string ''\n",
    "5. The union of an empty list of sets. --> empty set\n",
    "\n",
    "What goes wrong when we try to apply this reasoning to define the intersection of an empty list of sets?\n",
    "If we define the intersectioon of empty list to be the empty list, then its intersection with *any* set is the empty set. I.e. it isn't the identity element. The identity element is the set of everything I guess.\n"
   ]
  },
  {
   "cell_type": "code",
   "execution_count": 332,
   "metadata": {},
   "outputs": [],
   "source": [
    "# Combining Operations on Complex Numbers\n",
    "# Problem 1.7.12\n",
    "def transform(a, b, L):\n",
    "    f = lambda z: a * z + b\n",
    "    return [f(z) for z in L]\n",
    "\n"
   ]
  },
  {
   "cell_type": "markdown",
   "metadata": {},
   "source": [
    "\n",
    "A) Translate z up one unit and one unit to the right, then rotate ninety degrees clockwise, then scale by 2\n",
    "\n",
    "It is impossible to do this transformation with how transform is defined, because it is impossible to translate before rotating and scalling, because z is always multiplied first by a before being added to b\n",
    "\n",
    "B) Scale the real part by two and the imaginary part by three, then reotate by forty-five degrees counterclockwise, and then translate down two units and left three units. \n",
    "\n",
    "It is impossible to do this transformation, because we have no way of scaling the real and imaginary parts differently. \n"
   ]
  },
  {
   "cell_type": "markdown",
   "metadata": {},
   "source": [
    "Problem"
   ]
  }
 ],
 "metadata": {
  "kernelspec": {
   "display_name": "Python 3",
   "language": "python",
   "name": "python3"
  },
  "language_info": {
   "codemirror_mode": {
    "name": "ipython",
    "version": 3
   },
   "file_extension": ".py",
   "mimetype": "text/x-python",
   "name": "python",
   "nbconvert_exporter": "python",
   "pygments_lexer": "ipython3",
   "version": "3.7.2"
  }
 },
 "nbformat": 4,
 "nbformat_minor": 2
}
